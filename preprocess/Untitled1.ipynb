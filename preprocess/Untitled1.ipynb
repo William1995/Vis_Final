{
 "cells": [
  {
   "cell_type": "code",
   "execution_count": 1,
   "metadata": {},
   "outputs": [],
   "source": [
    "#!/usr/bin/python\n",
    "# -*- coding: UTF-8 -*-\n",
    "#data analysis libraries \n",
    "import numpy as np\n",
    "import pandas as pd"
   ]
  },
  {
   "cell_type": "code",
   "execution_count": 2,
   "metadata": {},
   "outputs": [],
   "source": [
    "#visualization libraries\n",
    "import matplotlib.pyplot as plt\n",
    "import seaborn as sns\n",
    "get_ipython().magic(u'matplotlib inline')"
   ]
  },
  {
   "cell_type": "code",
   "execution_count": 3,
   "metadata": {},
   "outputs": [],
   "source": [
    "#ignore warnings\n",
    "import warnings\n",
    "warnings.filterwarnings('ignore')"
   ]
  },
  {
   "cell_type": "code",
   "execution_count": 4,
   "metadata": {},
   "outputs": [],
   "source": [
    "#input data\n",
    "data = pd.read_csv(\"/Users/william/Desktop/JUN/0101_2.csv\", error_bad_lines=False, header=None)"
   ]
  },
  {
   "cell_type": "code",
   "execution_count": 5,
   "metadata": {},
   "outputs": [],
   "source": [
    "data_0 = data[data[3] == '0']\n",
    "data = data[data[3] != '0']"
   ]
  },
  {
   "cell_type": "code",
   "execution_count": 6,
   "metadata": {},
   "outputs": [
    {
     "data": {
      "text/html": [
       "<div>\n",
       "<style scoped>\n",
       "    .dataframe tbody tr th:only-of-type {\n",
       "        vertical-align: middle;\n",
       "    }\n",
       "\n",
       "    .dataframe tbody tr th {\n",
       "        vertical-align: top;\n",
       "    }\n",
       "\n",
       "    .dataframe thead th {\n",
       "        text-align: right;\n",
       "    }\n",
       "</style>\n",
       "<table border=\"1\" class=\"dataframe\">\n",
       "  <thead>\n",
       "    <tr style=\"text-align: right;\">\n",
       "      <th></th>\n",
       "      <th>0</th>\n",
       "      <th>1</th>\n",
       "      <th>2</th>\n",
       "      <th>3</th>\n",
       "      <th>4</th>\n",
       "      <th>5</th>\n",
       "    </tr>\n",
       "  </thead>\n",
       "  <tbody>\n",
       "    <tr>\n",
       "      <th>0</th>\n",
       "      <td>2017/1/1</td>\n",
       "      <td>0</td>\n",
       "      <td>松山機場</td>\n",
       "      <td>0</td>\n",
       "      <td>松山機場</td>\n",
       "      <td>0</td>\n",
       "    </tr>\n",
       "    <tr>\n",
       "      <th>1</th>\n",
       "      <td>2017/1/1</td>\n",
       "      <td>0</td>\n",
       "      <td>松山機場</td>\n",
       "      <td>0</td>\n",
       "      <td>中山國中</td>\n",
       "      <td>0</td>\n",
       "    </tr>\n",
       "    <tr>\n",
       "      <th>2</th>\n",
       "      <td>2017/1/1</td>\n",
       "      <td>0</td>\n",
       "      <td>松山機場</td>\n",
       "      <td>0</td>\n",
       "      <td>南京復興</td>\n",
       "      <td>0</td>\n",
       "    </tr>\n",
       "    <tr>\n",
       "      <th>3</th>\n",
       "      <td>2017/1/1</td>\n",
       "      <td>0</td>\n",
       "      <td>松山機場</td>\n",
       "      <td>0</td>\n",
       "      <td>忠孝復興</td>\n",
       "      <td>0</td>\n",
       "    </tr>\n",
       "    <tr>\n",
       "      <th>4</th>\n",
       "      <td>2017/1/1</td>\n",
       "      <td>0</td>\n",
       "      <td>松山機場</td>\n",
       "      <td>0</td>\n",
       "      <td>大安</td>\n",
       "      <td>0</td>\n",
       "    </tr>\n",
       "  </tbody>\n",
       "</table>\n",
       "</div>"
      ],
      "text/plain": [
       "          0  1     2  3     4  5\n",
       "0  2017/1/1  0  松山機場  0  松山機場  0\n",
       "1  2017/1/1  0  松山機場  0  中山國中  0\n",
       "2  2017/1/1  0  松山機場  0  南京復興  0\n",
       "3  2017/1/1  0  松山機場  0  忠孝復興  0\n",
       "4  2017/1/1  0  松山機場  0    大安  0"
      ]
     },
     "execution_count": 6,
     "metadata": {},
     "output_type": "execute_result"
    }
   ],
   "source": [
    "data_0.head()"
   ]
  },
  {
   "cell_type": "code",
   "execution_count": 7,
   "metadata": {},
   "outputs": [
    {
     "data": {
      "text/html": [
       "<div>\n",
       "<style scoped>\n",
       "    .dataframe tbody tr th:only-of-type {\n",
       "        vertical-align: middle;\n",
       "    }\n",
       "\n",
       "    .dataframe tbody tr th {\n",
       "        vertical-align: top;\n",
       "    }\n",
       "\n",
       "    .dataframe thead th {\n",
       "        text-align: right;\n",
       "    }\n",
       "</style>\n",
       "<table border=\"1\" class=\"dataframe\">\n",
       "  <thead>\n",
       "    <tr style=\"text-align: right;\">\n",
       "      <th></th>\n",
       "      <th>0</th>\n",
       "      <th>1</th>\n",
       "      <th>2</th>\n",
       "      <th>3</th>\n",
       "      <th>4</th>\n",
       "      <th>5</th>\n",
       "    </tr>\n",
       "  </thead>\n",
       "  <tbody>\n",
       "    <tr>\n",
       "      <th>24</th>\n",
       "      <td>2017/1/1</td>\n",
       "      <td>0</td>\n",
       "      <td>松山機場</td>\n",
       "      <td>中正紀念堂</td>\n",
       "      <td>小碧潭</td>\n",
       "      <td>0</td>\n",
       "    </tr>\n",
       "    <tr>\n",
       "      <th>25</th>\n",
       "      <td>2017/1/1</td>\n",
       "      <td>0</td>\n",
       "      <td>松山機場</td>\n",
       "      <td>中正紀念堂</td>\n",
       "      <td>新店</td>\n",
       "      <td>0</td>\n",
       "    </tr>\n",
       "    <tr>\n",
       "      <th>26</th>\n",
       "      <td>2017/1/1</td>\n",
       "      <td>0</td>\n",
       "      <td>松山機場</td>\n",
       "      <td>中正紀念堂</td>\n",
       "      <td>新店區公所</td>\n",
       "      <td>0</td>\n",
       "    </tr>\n",
       "    <tr>\n",
       "      <th>27</th>\n",
       "      <td>2017/1/1</td>\n",
       "      <td>0</td>\n",
       "      <td>松山機場</td>\n",
       "      <td>中正紀念堂</td>\n",
       "      <td>七張</td>\n",
       "      <td>0</td>\n",
       "    </tr>\n",
       "    <tr>\n",
       "      <th>28</th>\n",
       "      <td>2017/1/1</td>\n",
       "      <td>0</td>\n",
       "      <td>松山機場</td>\n",
       "      <td>中正紀念堂</td>\n",
       "      <td>大坪林</td>\n",
       "      <td>0</td>\n",
       "    </tr>\n",
       "  </tbody>\n",
       "</table>\n",
       "</div>"
      ],
      "text/plain": [
       "           0  1     2      3      4  5\n",
       "24  2017/1/1  0  松山機場  中正紀念堂    小碧潭  0\n",
       "25  2017/1/1  0  松山機場  中正紀念堂     新店  0\n",
       "26  2017/1/1  0  松山機場  中正紀念堂  新店區公所  0\n",
       "27  2017/1/1  0  松山機場  中正紀念堂     七張  0\n",
       "28  2017/1/1  0  松山機場  中正紀念堂    大坪林  0"
      ]
     },
     "execution_count": 7,
     "metadata": {},
     "output_type": "execute_result"
    }
   ],
   "source": [
    "data.head()"
   ]
  },
  {
   "cell_type": "code",
   "execution_count": 8,
   "metadata": {},
   "outputs": [],
   "source": [
    "data_0 = data_0[[0,1,2,4,5]]\n",
    "one = data[[0,1,2,3,5]]\n",
    "two = data[[0,1,3,4,5]]"
   ]
  },
  {
   "cell_type": "code",
   "execution_count": 9,
   "metadata": {},
   "outputs": [
    {
     "data": {
      "text/html": [
       "<div>\n",
       "<style scoped>\n",
       "    .dataframe tbody tr th:only-of-type {\n",
       "        vertical-align: middle;\n",
       "    }\n",
       "\n",
       "    .dataframe tbody tr th {\n",
       "        vertical-align: top;\n",
       "    }\n",
       "\n",
       "    .dataframe thead th {\n",
       "        text-align: right;\n",
       "    }\n",
       "</style>\n",
       "<table border=\"1\" class=\"dataframe\">\n",
       "  <thead>\n",
       "    <tr style=\"text-align: right;\">\n",
       "      <th></th>\n",
       "      <th>0</th>\n",
       "      <th>1</th>\n",
       "      <th>3</th>\n",
       "      <th>4</th>\n",
       "      <th>5</th>\n",
       "    </tr>\n",
       "  </thead>\n",
       "  <tbody>\n",
       "    <tr>\n",
       "      <th>24</th>\n",
       "      <td>2017/1/1</td>\n",
       "      <td>0</td>\n",
       "      <td>中正紀念堂</td>\n",
       "      <td>小碧潭</td>\n",
       "      <td>0</td>\n",
       "    </tr>\n",
       "    <tr>\n",
       "      <th>25</th>\n",
       "      <td>2017/1/1</td>\n",
       "      <td>0</td>\n",
       "      <td>中正紀念堂</td>\n",
       "      <td>新店</td>\n",
       "      <td>0</td>\n",
       "    </tr>\n",
       "    <tr>\n",
       "      <th>26</th>\n",
       "      <td>2017/1/1</td>\n",
       "      <td>0</td>\n",
       "      <td>中正紀念堂</td>\n",
       "      <td>新店區公所</td>\n",
       "      <td>0</td>\n",
       "    </tr>\n",
       "    <tr>\n",
       "      <th>27</th>\n",
       "      <td>2017/1/1</td>\n",
       "      <td>0</td>\n",
       "      <td>中正紀念堂</td>\n",
       "      <td>七張</td>\n",
       "      <td>0</td>\n",
       "    </tr>\n",
       "    <tr>\n",
       "      <th>28</th>\n",
       "      <td>2017/1/1</td>\n",
       "      <td>0</td>\n",
       "      <td>中正紀念堂</td>\n",
       "      <td>大坪林</td>\n",
       "      <td>0</td>\n",
       "    </tr>\n",
       "  </tbody>\n",
       "</table>\n",
       "</div>"
      ],
      "text/plain": [
       "           0  1      3      4  5\n",
       "24  2017/1/1  0  中正紀念堂    小碧潭  0\n",
       "25  2017/1/1  0  中正紀念堂     新店  0\n",
       "26  2017/1/1  0  中正紀念堂  新店區公所  0\n",
       "27  2017/1/1  0  中正紀念堂     七張  0\n",
       "28  2017/1/1  0  中正紀念堂    大坪林  0"
      ]
     },
     "execution_count": 9,
     "metadata": {},
     "output_type": "execute_result"
    }
   ],
   "source": [
    "#one.head()\n",
    "two.head()"
   ]
  },
  {
   "cell_type": "code",
   "execution_count": 10,
   "metadata": {},
   "outputs": [],
   "source": [
    "data_0.to_csv('0101split.csv', index=False, sep=',', encoding='utf_8_sig')\n",
    "one.to_csv('0101split1.csv', index=False, sep=',', encoding='utf_8_sig')\n",
    "two.to_csv('0101split2.csv', index=False, sep=',', encoding='utf_8_sig')"
   ]
  },
  {
   "cell_type": "code",
   "execution_count": null,
   "metadata": {},
   "outputs": [],
   "source": []
  }
 ],
 "metadata": {
  "kernelspec": {
   "display_name": "Python 2",
   "language": "python",
   "name": "python2"
  },
  "language_info": {
   "codemirror_mode": {
    "name": "ipython",
    "version": 2
   },
   "file_extension": ".py",
   "mimetype": "text/x-python",
   "name": "python",
   "nbconvert_exporter": "python",
   "pygments_lexer": "ipython2",
   "version": "2.7.14"
  }
 },
 "nbformat": 4,
 "nbformat_minor": 2
}
